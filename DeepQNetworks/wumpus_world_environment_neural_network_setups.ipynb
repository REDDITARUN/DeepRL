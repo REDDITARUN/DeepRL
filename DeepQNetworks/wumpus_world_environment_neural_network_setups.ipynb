{
 "cells": [
  {
   "cell_type": "markdown",
   "id": "9c0d943c",
   "metadata": {},
   "source": [
    "#### <center><h1>Reinforcement Learning</h1></center>\n",
    "\n",
    "<center>\n",
    "<h2>Deep Q-Networks</h2>\n",
    "\n",
    "<center>\n"
   ]
  },
  {
   "cell_type": "markdown",
   "id": "c58629cb",
   "metadata": {},
   "source": [
    "Welcome to the Assignment 2, Part 1: Introduction to Deep Reinforcement Learning and Neural Networks! The goal of this assignment is to make you comfortable with the application of different Neural Network structures depending on how the Reinforcement Learning environment is set up."
   ]
  },
  {
   "cell_type": "code",
   "execution_count": 1,
   "id": "c0fc19e1",
   "metadata": {},
   "outputs": [],
   "source": [
    "# Imports\n",
    "from environment import WumpusWorldEnvironment\n",
    "import torch\n",
    "import torch.nn as nn"
   ]
  },
  {
   "cell_type": "markdown",
   "id": "87890afd",
   "metadata": {},
   "source": [
    "# Environment"
   ]
  },
  {
   "cell_type": "markdown",
   "id": "b9dc8362",
   "metadata": {},
   "source": [
    "We will be working with an implementation of the Wumpus World environment. The environment comes from the book \"Artificial Intelligence: A Modern Approach\" by Stuart J. Russell and Peter Norvig. \n",
    "\n",
    "### ENVIRONMENT DETAILS:\n",
    "\n",
    "The environment is a 6 x 6 grid world containing a total of 36 grid blocks. \n",
    "\n",
    "#### ENVIRONMENT OBJECTS:\n",
    "The environment consists of the following objects:\n",
    "\n",
    "1. **Agent** - The agent starts in the grid block at the bottom left corner whose co-ordinates are [0, 0]. The goal of our agent is to collect the Gold while avoiding the Wumpus and the pits. \n",
    "\n",
    "2. **Wumpus** - The monster which would eat the agent if they are in the same grid block.\n",
    "\n",
    "3. **Pit** - The agent must avoid falling into the pits. \n",
    "\n",
    "4. **Gold** - The agent must collect the Gold.\n",
    "\n",
    "5. **Breeze** - Breeze surrounds the Pits and warn the agent of a Pit in an adjacent grid block.\n",
    "\n",
    "6. **Stench** - Stench surrounds the Wumpus and warns the agent of the Wumpus in an adjacent grid block.\n",
    "\n",
    "#### ENVIRONMENT OBSERVATIONS:\n",
    "\n",
    "Our implementation of the environment provides you with four different types of observations:\n",
    "\n",
    "1. **Integer** - Integer in the range [0 - 35]. This represents the grid block the agent is in. E.g., if the agent is in the bottom left grid block (starting position) the observation would be 0, if the agent is in the grid block containing the Gold the observation would be 34, if the agent is in the top right grid block the observation would be 35.\n",
    "\n",
    "2. **Vector** - \n",
    "\n",
    "    **2.1.** A vector of length 2 representing the agent co-ordinates. The first entry represents the x co-ordinate and the second entry represets the y co-ordinate. E.g., if the agent is in the bottom left grid block (starting position) the observation would be [0, 0], if the agent is in the grid block containing the Gold the observation would be [4, 5], if the agent is in the top right grid block the observation would be [5, 5].\n",
    "    \n",
    "    **2.2.** A vector of length 36 representing the one-hot encoding of the integer observation (refer type 1 above). E.g., if the agent is in the bottom left grid block (starting position) the observation would be [1, 0, ..., 0, 0], if the agent is in the grid block containing the Gold the observation would be [0, 0, ..., 1, 0], if the agent is in the top right grid block the observation would be [0, 0, ..., 0, 1].\n",
    "\n",
    "\n",
    "3. **Image** - Image render of the environment returned as an NumPy array. The image size is 84 * 84 (same size used in the DQN paper). E.g., if the agent is in the bottom right grid block the observation is:\n",
    "\n",
    "    Observation: (84 * 84)\n",
    "\n",
    "     [[255 255 255 ... 255 255 255]\n",
    "\n",
    "     [255 255 255 ... 255 255 255]\n",
    "\n",
    "     [255 255 255 ... 255 255 255]\n",
    "\n",
    "     ...\n",
    "\n",
    "     [255 255 255 ... 255 255 255]\n",
    "\n",
    "     [255 255 255 ... 255 255 255]\n",
    "\n",
    "     [255 255 255 ... 255 255 255]]\n",
    "\n",
    "    Observation type: <class 'numpy.ndarray'>\n",
    "\n",
    "    Observation Shape: (84, 84)\n",
    "\n",
    "    Visually, it looks like:\n",
    "    <img src=\"images/environment_render.png\" width=\"500\" height=\"500\">\n",
    "    \n",
    "\n",
    "4. **Float** - Float in the range [0 - $\\infty$] representing the time elapsed in seconds. \n",
    "\n",
    "#### ENVIRONMENT ACTIONS:\n",
    "\n",
    "Our implementation of the environment provides you with three different types of actions:\n",
    "\n",
    "1. **Discrete** - Integer in the range [0 - 3] representing the four actions possible in the environment as follows: 0 - Right 1 - Left 2 - Up 3 - Down.\n",
    "\n",
    "2. **Multi-Discrete** - Array of length four where each element takes binary values 0 or 1. Array elements represent if we take a particular action. Array element with index 0 corresponds to the right action, index 1 corresponds to the left action, index 2 corresponds to the up action, and index 3 corresponds to the down action. E.g., \n",
    "   action = [1, 0, 0, 0] would result in the agent moving right.\n",
    "   action = [1, 0, 1, 0] would result in the agent moving right and up.\n",
    "   action = [0, 1, 0, 1] would result in the agent moving left and down.\n",
    "\n",
    "3. **Continuous** - Float in the range [-1, 1] determining whether the agent will go left, right, up, or down as follows:\n",
    "\n",
    "    if -1 <= action <= -0.5:\n",
    "        Go Right.\n",
    "    elif -0.5 < action <= 0:\n",
    "        Go Left.\n",
    "    elif 0 < action <= 0.5:\n",
    "        Go Up.\n",
    "    elif 0.5 < action <= 1:\n",
    "        Go Down.\n",
    "        \n",
    "### YOUR TASK IS TO USE A NEURAL NETWORK TO WORK WITH ALL FOUR TYPES OF OBSERVATIONS AND ALL THREE TYPES OF  ACTIONS.\n",
    "### Note: You don't have to train your agent/neural network. You just have to build the neural network structure that takes the observation as input and produces the desired output with the initial weights.\n",
    "\n",
    "#### You can use libraries such as PyTorch/TensorFlow/Keras to build your neural networks.\n",
    "\n",
    "#### <span style=\"color:red\">You cannot use RL libraries that already provide the neural network to you such as Stable-baselines3, Keras-RL, TF agents, Ray RLLib etc.</span>"
   ]
  },
  {
   "cell_type": "markdown",
   "id": "a6deebbb",
   "metadata": {},
   "source": [
    "<img src=\"images/wumpus_world_environment.jpg\" width=\"600\" height=\"600\">"
   ]
  },
  {
   "cell_type": "markdown",
   "id": "f2f11e24",
   "metadata": {},
   "source": [
    "# START COMPLETING YOUR ASSIGNMENT HERE"
   ]
  },
  {
   "cell_type": "markdown",
   "id": "729a8768",
   "metadata": {},
   "source": [
    "## Observation Type - Integer, Action Type - Discrete\n",
    "\n",
    "The part of the assignment requires you to create a sequential dense neural network with 1 hidden layer having 64 neurons and the output layer having 4 neurons. The input to the neural network is an integer (refer to environment observations type 1). The output of the neural network is an array represeting the Q-values from which you will choose an action (refer to environment actions type 1)."
   ]
  },
  {
   "cell_type": "markdown",
   "id": "c596cb95",
   "metadata": {},
   "source": [
    "The following figure shows the network structure you will have to use:\n",
    "\n",
    "<img src=\"images/neural_network_structures/neural_network_1_64_4.png\">"
   ]
  },
  {
   "cell_type": "code",
   "execution_count": 2,
   "id": "7b1f4da4",
   "metadata": {},
   "outputs": [
    {
     "name": "stdout",
     "output_type": "stream",
     "text": [
      "Original Observation: 0\n",
      "Trained Observation: 6\n",
      "Q-values for Integer Observation Discrete Action Network: [-0.27374625  0.04636037  0.28766024 -0.2286379 ]\n"
     ]
    }
   ],
   "source": [
    "\"\"\"TO DO: Create a neural network, pass it the observation from the environment\n",
    "and get the predicted Q-values for the four actions. Print the observation and the Q-values.\"\"\"\n",
    "\n",
    "environment = WumpusWorldEnvironment(observation_type='integer', action_type='discrete')\n",
    "observation, info = environment.reset()\n",
    "\n",
    "# BEGIN_YOUR_CODE\n",
    "class IntegerObservationDiscreteActionNetwork(nn.Module):\n",
    "    def __init__(self, inp_size, hid_size, outp_size):\n",
    "        super(IntegerObservationDiscreteActionNetwork, self).__init__()\n",
    "        self.fc1 = nn.Linear(inp_size, hid_size)\n",
    "        self.fc2 = nn.Linear(hid_size, outp_size)\n",
    "    \n",
    "    def forward(self, x):\n",
    "        x = torch.relu(self.fc1(x))\n",
    "        x = self.fc2(x)\n",
    "        return x\n",
    "\n",
    "inp_size = 1  \n",
    "hid_size = 64\n",
    "outp_size = 4 \n",
    "model_IntegerObservationDiscreteActionNetwork = IntegerObservationDiscreteActionNetwork(inp_size, hid_size, outp_size)\n",
    "observation_tensor_IntegerObservationDiscreteActionNetwork = torch.tensor(observation).unsqueeze(0).float()\n",
    "q_values_IntegerObservationDiscreteActionNetwork = model_IntegerObservationDiscreteActionNetwork(observation_tensor_IntegerObservationDiscreteActionNetwork)\n",
    "predicted_action_IntegerObservationDiscreteActionNetwork = int(torch.argmax(q_values_IntegerObservationDiscreteActionNetwork).item())\n",
    "observation_predicted_IntegerObservationDiscreteActionNetwork = environment.step(predicted_action_IntegerObservationDiscreteActionNetwork)\n",
    "\n",
    "print(\"Original Observation:\", observation)\n",
    "print(\"Trained Observation:\", observation_predicted_IntegerObservationDiscreteActionNetwork[0])\n",
    "print(\"Q-values for Integer Observation Discrete Action Network:\", q_values_IntegerObservationDiscreteActionNetwork.detach().numpy())\n",
    "# END_YOUR_CODE"
   ]
  },
  {
   "cell_type": "markdown",
   "id": "b2b233bb",
   "metadata": {},
   "source": [
    "## Observation Type - Vector (2.1), Action Type - Discrete\n",
    "\n",
    "The part of the assignment requires you to create a sequential dense neural network with 1 hidden layer having 64 neurons and the output layer having 4 neurons. The input to the neural network is a vector of length 2 (refer to environment observations type 2.1). The output of the neural network is an array represeting the Q-values from which you will choose an action (refer to environment actions type 1)."
   ]
  },
  {
   "cell_type": "markdown",
   "id": "0e9c4873",
   "metadata": {},
   "source": [
    "The following figure shows the network structure you will have to use:\n",
    "\n",
    "<img src=\"images/neural_network_structures/neural_network_2_64_4.png\">"
   ]
  },
  {
   "cell_type": "code",
   "execution_count": 3,
   "id": "10d985b5",
   "metadata": {},
   "outputs": [
    {
     "name": "stdout",
     "output_type": "stream",
     "text": [
      "Original Observation: [-1  0]\n",
      "Trained Observation: [0 0]\n",
      "Q-values for Vector 2.1 Observation Discrete Action Network: tensor([ 0.0235,  0.1255, -0.3117, -0.0151], grad_fn=<ViewBackward0>)\n"
     ]
    }
   ],
   "source": [
    "\"\"\"TO DO: Create a neural network, pass it the observation from the environment\n",
    "and get the predicted Q-values for the four actions. Print the observation and the Q-values.\"\"\"\n",
    "\n",
    "environment = WumpusWorldEnvironment(observation_type='vector', action_type='discrete')\n",
    "observation, info = environment.reset()\n",
    "\n",
    "# BEGIN_YOUR_CODE\n",
    "class Vector_2_1_ObservationDiscreteActionNetwork(nn.Module):\n",
    "    def __init__(self, inp_size, hid_size, outp_size):\n",
    "        super(Vector_2_1_ObservationDiscreteActionNetwork, self).__init__()\n",
    "        self.fc1 = nn.Linear(inp_size, hid_size)\n",
    "        self.relu = nn.ReLU()\n",
    "        self.fc2 = nn.Linear(hid_size, outp_size)\n",
    "\n",
    "    def forward(self, x):\n",
    "        out = self.fc1(x)\n",
    "        out = self.relu(out)\n",
    "        out = self.fc2(out)\n",
    "        return out\n",
    "\n",
    "inp_size = 2\n",
    "outp_size = 4\n",
    "hid_size = 64\n",
    "model_Vector_2_1_ObservationDiscreteActionNetwork = Vector_2_1_ObservationDiscreteActionNetwork(inp_size, hid_size, outp_size)\n",
    "observation_tensor_Vector_2_1_ObservationDiscreteActionNetwork = torch.tensor(observation, dtype=torch.float32)\n",
    "q_values_Vector_2_1_ObservationDiscreteActionNetwork = model_Vector_2_1_ObservationDiscreteActionNetwork(observation_tensor_Vector_2_1_ObservationDiscreteActionNetwork)\n",
    "predicted_action_Vector_2_1_ObservationDiscreteActionNetwork = int(torch.argmax(q_values_Vector_2_1_ObservationDiscreteActionNetwork).item())\n",
    "observation_predicted_Vector_2_1_ObservationDiscreteActionNetwork = environment.step(predicted_action_Vector_2_1_ObservationDiscreteActionNetwork)\n",
    "\n",
    "print(\"Original Observation:\", observation)\n",
    "print(\"Trained Observation:\", observation_predicted_Vector_2_1_ObservationDiscreteActionNetwork[0])\n",
    "print(\"Q-values for Vector 2.1 Observation Discrete Action Network:\", q_values_Vector_2_1_ObservationDiscreteActionNetwork)\n",
    "# END_YOUR_CODE"
   ]
  },
  {
   "cell_type": "markdown",
   "id": "a8957b9f",
   "metadata": {},
   "source": [
    "## Observation Type - Vector (2.2), Action Type - Discrete\n",
    "\n",
    "The part of the assignment requires you to create a sequential dense neural network with 1 hidden layer having 64 neurons and the output layer having 4 neurons. The input to the neural network is a vector of length 36 (refer to environment observations type 2.2). The output of the neural network is an array represeting the Q-values from which you will choose an action (refer to environment actions type 1).\n",
    "\n",
    "**HINT:** Use the integer observation and convert it to a one-hot encoded vector."
   ]
  },
  {
   "cell_type": "markdown",
   "id": "470cf5f8",
   "metadata": {},
   "source": [
    "The following figure shows the network structure you will have to use:\n",
    "\n",
    "<img src=\"images/neural_network_structures/neural_network_36_64_4.png\">"
   ]
  },
  {
   "cell_type": "code",
   "execution_count": 4,
   "id": "ae05b09e",
   "metadata": {},
   "outputs": [
    {
     "name": "stdout",
     "output_type": "stream",
     "text": [
      "Original Observation: 0\n",
      "Trained Observation: 0\n",
      "Q-values for Vector 2.2 Observation Discrete Action Network: tensor([0.0749, 0.2154, 0.1197, 0.0230], grad_fn=<ViewBackward0>)\n"
     ]
    }
   ],
   "source": [
    "\"\"\"TO DO: Create a neural network, pass it the observation from the environment\n",
    "and get the predicted Q-values for the four actions. Print the observation and the Q-values.\"\"\"\n",
    "\n",
    "environment = WumpusWorldEnvironment(observation_type='integer', action_type='discrete')\n",
    "observation, info = environment.reset()\n",
    "\n",
    "# BEGIN_YOUR_CODE\n",
    "class Vector_2_2_ObservationDiscreteActionNetwork(nn.Module):\n",
    "    def __init__(self, inp_size, hid_size, outp_size):\n",
    "        super(Vector_2_2_ObservationDiscreteActionNetwork, self).__init__()\n",
    "        self.fc1 = nn.Linear(inp_size, hid_size)\n",
    "        self.relu = nn.ReLU()\n",
    "        self.fc2 = nn.Linear(hid_size, outp_size)\n",
    "    def forward(self, x):\n",
    "        out = self.fc1(x)\n",
    "        out = self.relu(out)\n",
    "        out = self.fc2(out)\n",
    "        return out\n",
    "\n",
    "inp_size = 36 \n",
    "outp_size = 4\n",
    "hid_size = 64\n",
    "observation_one_hot_Vector_2_2_ObservationDiscreteActionNetwork = torch.zeros(inp_size)\n",
    "observation_one_hot_Vector_2_2_ObservationDiscreteActionNetwork[observation] = 1\n",
    "\n",
    "model_Vector_2_2_ObservationDiscreteActionNetwork = Vector_2_2_ObservationDiscreteActionNetwork(inp_size, hid_size, outp_size)\n",
    "q_values_Vector_2_2_ObservationDiscreteActionNetwork = model_Vector_2_2_ObservationDiscreteActionNetwork(observation_one_hot_Vector_2_2_ObservationDiscreteActionNetwork)\n",
    "predicted_action_Vector_2_2_ObservationDiscreteActionNetwork = int(torch.argmax(q_values_Vector_2_2_ObservationDiscreteActionNetwork).item())\n",
    "observation_predicted_Vector_2_2_ObservationDiscreteActionNetwork = environment.step(predicted_action_Vector_2_2_ObservationDiscreteActionNetwork)\n",
    "\n",
    "print(\"Original Observation:\", observation)\n",
    "print(\"Trained Observation:\", observation_predicted_Vector_2_2_ObservationDiscreteActionNetwork[0])\n",
    "print(\"Q-values for Vector 2.2 Observation Discrete Action Network:\", q_values_Vector_2_2_ObservationDiscreteActionNetwork)\n",
    "# END_YOUR_CODE"
   ]
  },
  {
   "cell_type": "markdown",
   "id": "ce19c97b",
   "metadata": {},
   "source": [
    "## Observation Type - Image, Action Type - Discrete\n",
    "\n",
    "The part of the assignment requires you to create a convolutional neural network with one convolutional layer having 128 filters of size 3 x 3, one hidden layer having 64 neurons, and the output layer having 4 neurons. The input to the neural network is an image of size 84 * 84 (refer to environment observations type 3). The output of the neural network is an array represeting the Q-values from which you will choose an action (refer to environment actions type 1)."
   ]
  },
  {
   "cell_type": "markdown",
   "id": "df3d739c",
   "metadata": {},
   "source": [
    "The following figure shows the network structure you will have to use:\n",
    "\n",
    "<img src=\"images/neural_network_structures/convolutional_neural_network_84x84_128_64_4.png\">"
   ]
  },
  {
   "cell_type": "code",
   "execution_count": 5,
   "id": "2044da09",
   "metadata": {},
   "outputs": [
    {
     "name": "stdout",
     "output_type": "stream",
     "text": [
      "After Convolution Layer we have:  torch.Size([1, 128, 84, 84])\n",
      "After we flatten we have:  torch.Size([1, 903168])\n",
      "After FC1 we have:  torch.Size([1, 64])\n",
      "Finally FC2 or Ouput Layer we have:  torch.Size([1, 4])\n",
      "Original Observation: [[[[255 255 255 ... 255 255 255]\n",
      "   [255 255 255 ... 255 255 255]\n",
      "   [255 255 255 ... 255 255 255]\n",
      "   ...\n",
      "   [255 255 255 ... 255 255 255]\n",
      "   [255 255 255 ... 255 255 255]\n",
      "   [255 255 255 ... 255 255 255]]]]\n",
      "Trained Observation: [[255 255 255 ... 255 255 255]\n",
      " [255 255 255 ... 255 255 255]\n",
      " [255 255 255 ... 255 255 255]\n",
      " ...\n",
      " [255 255 255 ... 255 255 255]\n",
      " [255 255 255 ... 255 255 255]\n",
      " [255 255 255 ... 255 255 255]]\n",
      "Q-values for Image Observation Discrete Action Network: tensor([[ 36.1178,   0.2138, -31.6595,  -8.9227]], grad_fn=<AddmmBackward0>)\n"
     ]
    }
   ],
   "source": [
    "\"\"\"TO DO: Create a neural network, pass it the observation from the environment\n",
    "and get the predicted Q-values for the four actions. Print the observation and the Q-values.\"\"\"\n",
    "\n",
    "environment = WumpusWorldEnvironment(observation_type='image', action_type='discrete')\n",
    "observation, info = environment.reset()\n",
    "\n",
    "# BEGIN_YOUR_CODE\n",
    "import numpy as np\n",
    "class ImageObservationDiscreteActionNetwork(nn.Module):\n",
    "    def __init__(self, num_actions):\n",
    "        super(ImageObservationDiscreteActionNetwork, self).__init__()\n",
    "        self.conv1 = nn.Conv2d(in_channels=1, out_channels=128, kernel_size=3, stride=1, padding=1)\n",
    "        self.relu = nn.ReLU()\n",
    "        self.flatten = nn.Flatten()\n",
    "        self.fc1 = nn.Linear(128*84 * 84, 64)\n",
    "        self.fc2 = nn.Linear(64, num_actions)\n",
    "\n",
    "    def forward(self, x):\n",
    "        x = self.conv1(x)\n",
    "        print(\"After Convolution Layer we have: \", x.size())\n",
    "        x = self.relu(x)\n",
    "        x = self.flatten(x)\n",
    "        print(\"After we flatten we have: \", x.size())\n",
    "        x = self.fc1(x)\n",
    "        print(\"After FC1 we have: \", x.size())\n",
    "        x = self.relu(x)\n",
    "        x = self.fc2(x)\n",
    "        print(\"Finally FC2 or Ouput Layer we have: \", x.size())\n",
    "        return x\n",
    "\n",
    "\n",
    "num_actions = 4\n",
    "observation = np.array(observation).reshape(1,1,84,84)\n",
    "model_ImageObservationDiscreteActionNetwork = ImageObservationDiscreteActionNetwork(num_actions)\n",
    "observation_tensor_ImageObservationDiscreteActionNetwork = torch.tensor(observation, dtype=torch.float32)\n",
    "q_values_ImageObservationDiscreteActionNetwork = model_ImageObservationDiscreteActionNetwork(observation_tensor_ImageObservationDiscreteActionNetwork)\n",
    "\n",
    "predicted_action_ImageObservationDiscreteActionNetwork = int(torch.argmax(q_values_ImageObservationDiscreteActionNetwork).item())\n",
    "observation_predicted_ImageObservationDiscreteActionNetwork = environment.step(predicted_action_ImageObservationDiscreteActionNetwork)\n",
    "\n",
    "print(\"Original Observation:\", observation)\n",
    "print(\"Trained Observation:\", observation_predicted_ImageObservationDiscreteActionNetwork[0])\n",
    "print(\"Q-values for Image Observation Discrete Action Network:\", q_values_ImageObservationDiscreteActionNetwork)\n",
    "# END_YOUR_CODE"
   ]
  },
  {
   "cell_type": "markdown",
   "id": "64be04fd",
   "metadata": {},
   "source": [
    "## Observation Type - Float, Action Type - Discrete\n",
    "\n",
    "The part of the assignment requires you to create a sequential dense neural network with 1 hidden layer having 256 neurons and the output layer having 4 neurons. The input to the neural network is a float (refer to environment observations type 4). The output of the neural network is an array represeting the Q-values from which you will choose an action (refer to environment actions type 1)."
   ]
  },
  {
   "cell_type": "markdown",
   "id": "b7ed49e0",
   "metadata": {},
   "source": [
    "The following figure shows the network structure you will have to use:\n",
    "\n",
    "<img src=\"images/neural_network_structures/neural_network_1_64_4.png\">"
   ]
  },
  {
   "cell_type": "code",
   "execution_count": 6,
   "id": "ea0e4aa6",
   "metadata": {},
   "outputs": [
    {
     "name": "stdout",
     "output_type": "stream",
     "text": [
      "Original Observation: 0.0009920597076416016\n",
      "Trained Observation: 0.0019991397857666016\n",
      "Q-values for Float Observation Discrete Action Network: tensor([[ 0.4165, -0.5158, -0.1313, -0.2039]], grad_fn=<AddmmBackward0>)\n"
     ]
    }
   ],
   "source": [
    "\"\"\"TO DO: Create a neural network, pass it the observation from the environment\n",
    "and get the predicted Q-values for the four actions. Print the observation and the Q-values.\"\"\"\n",
    "\n",
    "environment = WumpusWorldEnvironment(observation_type='float', action_type='discrete')\n",
    "observation, info = environment.reset()\n",
    "\n",
    "# BEGIN_YOUR_CODE\n",
    "class FloatObservationDiscreteActionNetwork(nn.Module):\n",
    "    def __init__(self, num_actions):\n",
    "        super(FloatObservationDiscreteActionNetwork, self).__init__()\n",
    "        self.fc1 = nn.Linear(1, 256)\n",
    "        self.relu = nn.ReLU()\n",
    "        self.fc2 = nn.Linear(256, num_actions)\n",
    "\n",
    "    def forward(self, x):\n",
    "        x = self.fc1(x)\n",
    "        x = self.relu(x)\n",
    "        x = self.fc2(x)\n",
    "        return x\n",
    "\n",
    "num_actions = 4\n",
    "model_FloatObservationDiscreteActionNetwork = FloatObservationDiscreteActionNetwork(num_actions)\n",
    "observation_tensor_FloatObservationDiscreteActionNetwork = torch.tensor([[observation]], dtype=torch.float32)\n",
    "q_values_FloatObservationDiscreteActionNetwork = model_FloatObservationDiscreteActionNetwork(observation_tensor_FloatObservationDiscreteActionNetwork)\n",
    "predicted_action_FloatObservationDiscreteActionNetwork = torch.argmax(q_values_FloatObservationDiscreteActionNetwork).item()\n",
    "observation_predicted_FloatObservationDiscreteActionNetwork = environment.step(predicted_action_FloatObservationDiscreteActionNetwork)\n",
    "\n",
    "print(\"Original Observation:\", observation)\n",
    "print(\"Trained Observation:\", observation_predicted_FloatObservationDiscreteActionNetwork[0])\n",
    "print(\"Q-values for Float Observation Discrete Action Network:\", q_values_FloatObservationDiscreteActionNetwork)\n",
    "# END_YOUR_CODE"
   ]
  },
  {
   "cell_type": "markdown",
   "id": "27040465",
   "metadata": {},
   "source": [
    "## Observation Type - Vector (2.2), Action Type - Multi-Discrete\n",
    "\n",
    "The part of the assignment requires you to create a sequential dense neural network with 1 hidden layer having 64 neurons and the output layer having 4 neurons. The input to the neural network is a vector of length 36 (refer to environment observations type 2.2). The output of the neural network is an array representing the probability of choosing the actions. (If the value of the array element is >=0.5 you will perform the action.) (refer to environment actions type 2).\n",
    "\n",
    "**HINT:** Use the integer observation and convert it to a one-hot encoded vector."
   ]
  },
  {
   "cell_type": "markdown",
   "id": "8fe64de9",
   "metadata": {},
   "source": [
    "The following figure shows the network structure you will have to use:\n",
    "\n",
    "<img src=\"images/neural_network_structures/neural_network_36_64_4_sigmoid.png\">"
   ]
  },
  {
   "cell_type": "code",
   "execution_count": 7,
   "id": "00ea3736",
   "metadata": {},
   "outputs": [
    {
     "name": "stdout",
     "output_type": "stream",
     "text": [
      "Original Observation: 0\n",
      "Trained Observation: 0\n",
      "Action Probabilities for Vector 2.2 Observation Multi Discrete Action Network:\n",
      " tensor([0.4974, 0.5273, 0.5240, 0.4711], grad_fn=<SigmoidBackward0>)\n"
     ]
    }
   ],
   "source": [
    "\"\"\"TO DO: Create a neural network, pass it the observation from the environment\n",
    "and get the predicted action probabilities for the four actions. Print the observation and the action probabilities.\"\"\"\n",
    "\n",
    "environment = WumpusWorldEnvironment(observation_type='integer', action_type='multi_discrete')\n",
    "observation, info = environment.reset()\n",
    "\n",
    "# BEGIN_YOUR_CODE\n",
    "class Vector_2_2_ObservationMultiDiscreteActionNetwork(nn.Module):\n",
    "    def __init__(self, num_actions):\n",
    "        super(Vector_2_2_ObservationMultiDiscreteActionNetwork, self).__init__()\n",
    "        self.fc1 = nn.Linear(36, 64)\n",
    "        self.relu = nn.ReLU()\n",
    "        self.fc2 = nn.Linear(64, num_actions)\n",
    "    def forward(self, x):\n",
    "        x = self.fc1(x)\n",
    "        x = self.relu(x)\n",
    "        x = self.fc2(x)\n",
    "        return torch.sigmoid(x)\n",
    "\n",
    "num_actions = 4\n",
    "model_Vector_2_2_ObservationMultiDiscreteActionNetwork = Vector_2_2_ObservationMultiDiscreteActionNetwork(num_actions)\n",
    "observation_one_hot_Vector_2_2_ObservationMultiDiscreteActionNetwork = torch.zeros(36)\n",
    "observation_one_hot_Vector_2_2_ObservationMultiDiscreteActionNetwork[observation] = 1\n",
    "action_probabilities_Vector_2_2_ObservationMultiDiscreteActionNetwork = model_Vector_2_2_ObservationMultiDiscreteActionNetwork(observation_one_hot_Vector_2_2_ObservationMultiDiscreteActionNetwork)\n",
    "\n",
    "max_prob, max_index = torch.max(action_probabilities_Vector_2_2_ObservationMultiDiscreteActionNetwork, dim=0)\n",
    "max_action = max_index.item()\n",
    "actions = [0] * 4 \n",
    "actions[max_action] = 1\n",
    "observation_predicted_Vector_2_2_ObservationMultiDiscreteActionNetwork = environment.step(actions)\n",
    "\n",
    "print(\"Original Observation:\", observation)\n",
    "print(\"Trained Observation:\", observation_predicted_Vector_2_2_ObservationMultiDiscreteActionNetwork[0])\n",
    "print(\"Action Probabilities for Vector 2.2 Observation Multi Discrete Action Network:\\n\", action_probabilities_Vector_2_2_ObservationMultiDiscreteActionNetwork)\n",
    "# END_YOUR_CODE"
   ]
  },
  {
   "cell_type": "markdown",
   "id": "082f05b0",
   "metadata": {},
   "source": [
    "## Observation Type - Vector (2.2), Action Type - Continuous\n",
    "\n",
    "The part of the assignment requires you to create a sequential dense neural network with 1 hidden layer having 64 neurons and the output layer having 1 neuron. The input to the neural network is a vector of length 36 (refer to environment observations type 2.2). The output of the neural network is an float in the range [-1, 1] determining the action which will be taken. (refer to environment actions type 3).\n",
    "\n",
    "**HINT:** Use the integer observation and convert it to a one-hot encoded vector and use the TanH activation function to get the output in the range [-1, 1]."
   ]
  },
  {
   "cell_type": "markdown",
   "id": "d8796988",
   "metadata": {},
   "source": [
    "The following figure shows the network structure you will have to use:\n",
    "\n",
    "<img src=\"images/neural_network_structures/neural_network_36_64_1.png\">"
   ]
  },
  {
   "cell_type": "code",
   "execution_count": 8,
   "id": "b98555f1",
   "metadata": {},
   "outputs": [
    {
     "name": "stdout",
     "output_type": "stream",
     "text": [
      "Original Observation: 0\n",
      "Observation for Predicted Action: 0\n",
      "Predicted Action for Vector 2.2 Observation Continuous Action Network:\n",
      " -0.033613305538892746\n"
     ]
    }
   ],
   "source": [
    "\"\"\"TO DO: Create a neural network, pass it the observation from the environment\n",
    "and get the predicted action. Print the observation and the predicted action.\"\"\"\n",
    "\n",
    "environment = WumpusWorldEnvironment(observation_type='integer', action_type='continuous')\n",
    "observation, info = environment.reset()\n",
    "\n",
    "# BEGIN_YOUR_CODE\n",
    "class Vector_2_2_ObservationContinuousActionNetwork(nn.Module):\n",
    "    def __init__(self):\n",
    "        super(Vector_2_2_ObservationContinuousActionNetwork, self).__init__()\n",
    "        self.fc1 = nn.Linear(36, 64)\n",
    "        self.relu = nn.ReLU()\n",
    "        self.fc2 = nn.Linear(64, 1)\n",
    "    def forward(self, x):\n",
    "        x = self.fc1(x)\n",
    "        x = self.relu(x)\n",
    "        x = self.fc2(x)\n",
    "        return torch.tanh(x)\n",
    "\n",
    "model_Vector_2_2_ObservationContinuousActionNetwork = Vector_2_2_ObservationContinuousActionNetwork()\n",
    "\n",
    "observation_one_hot_Vector_2_2_ObservationContinuousActionNetwork = torch.zeros(36)\n",
    "observation_one_hot_Vector_2_2_ObservationContinuousActionNetwork[observation] = 1\n",
    "predicted_action_Vector_2_2_ObservationContinuousActionNetwork = model_Vector_2_2_ObservationContinuousActionNetwork(observation_one_hot_Vector_2_2_ObservationContinuousActionNetwork)\n",
    "predicted_action = predicted_action_Vector_2_2_ObservationContinuousActionNetwork.item()\n",
    "\n",
    "print(\"Original Observation:\", observation)\n",
    "print(\"Observation for Predicted Action:\", environment.step(predicted_action)[0])\n",
    "print(\"Predicted Action for Vector 2.2 Observation Continuous Action Network:\\n\", predicted_action_Vector_2_2_ObservationContinuousActionNetwork.item())\n",
    "# END_YOUR_CODE"
   ]
  }
 ],
 "metadata": {
  "kernelspec": {
   "display_name": "Python 3 (ipykernel)",
   "language": "python",
   "name": "python3"
  },
  "language_info": {
   "codemirror_mode": {
    "name": "ipython",
    "version": 3
   },
   "file_extension": ".py",
   "mimetype": "text/x-python",
   "name": "python",
   "nbconvert_exporter": "python",
   "pygments_lexer": "ipython3",
   "version": "3.8.10"
  }
 },
 "nbformat": 4,
 "nbformat_minor": 5
}
